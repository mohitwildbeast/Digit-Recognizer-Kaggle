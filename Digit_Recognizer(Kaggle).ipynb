{
  "nbformat": 4,
  "nbformat_minor": 0,
  "metadata": {
    "colab": {
      "name": "Digit-Recognizer( Kaggle).ipynb",
      "version": "0.3.2",
      "provenance": [],
      "include_colab_link": true
    },
    "kernelspec": {
      "name": "python3",
      "display_name": "Python 3"
    },
    "accelerator": "GPU"
  },
  "cells": [
    {
      "cell_type": "markdown",
      "metadata": {
        "id": "view-in-github",
        "colab_type": "text"
      },
    },
    {
      "metadata": {
        "id": "JjrcBOu6L545",
        "colab_type": "text"
      },
      "cell_type": "markdown",
      "source": [
        "Import necessary libraries"
      ]
    },
    {
      "metadata": {
        "id": "EUug2pyxLOjf",
        "colab_type": "code",
        "colab": {}
      },
      "cell_type": "code",
      "source": [
        "import numpy as np\n",
        "import pandas as pd"
      ],
      "execution_count": 0,
      "outputs": []
    },
    {
      "metadata": {
        "id": "rlgOBz0INzEQ",
        "colab_type": "text"
      },
      "cell_type": "markdown",
      "source": [
        "Clone the git repository to use the dataset"
      ]
    },
    {
      "metadata": {
        "id": "FcYyR75xNzz2",
        "colab_type": "code",
        "colab": {
          "base_uri": "https://localhost:8080/",
          "height": 105
        },
        "outputId": "5e894ce5-b04b-409e-f8af-33abfd64f23f"
      },
      "cell_type": "code",
      "source": [
        "!git clone https://github.com/mohitwildbeast/Digit-Recognizer-Kaggle.git"
      ],
      "execution_count": 2,
      "outputs": [
        {
          "output_type": "stream",
          "text": [
            "Cloning into 'Digit-Recognizer-Kaggle'...\n",
            "remote: Counting objects: 17, done.\u001b[K\n",
            "remote: Compressing objects: 100% (16/16), done.\u001b[K\n",
            "remote: Total 17 (delta 3), reused 5 (delta 1), pack-reused 0\u001b[K\n",
            "Unpacking objects: 100% (17/17), done.\n"
          ],
          "name": "stdout"
        }
      ]
    },
    {
      "metadata": {
        "id": "Q5LAwPnYu8XA",
        "colab_type": "code",
        "colab": {
          "base_uri": "https://localhost:8080/",
          "height": 52
        },
        "outputId": "84c8b070-15ca-4772-b13d-96f4b9a89c1f"
      },
      "cell_type": "code",
      "source": [
        "!ls\n",
        "%cd Digit-Recognizer-Kaggle"
      ],
      "execution_count": 8,
      "outputs": [
        {
          "output_type": "stream",
          "text": [
            "Digit-Recognizer-Kaggle  sample_data\n",
            "/content/Digit-Recognizer-Kaggle\n"
          ],
          "name": "stdout"
        }
      ]
    },
    {
      "metadata": {
        "id": "HOOzTSEMdLK5",
        "colab_type": "code",
        "colab": {
          "base_uri": "https://localhost:8080/",
          "height": 35
        },
        "outputId": "6438b0d0-a331-49e0-99c8-6be36f39c8c7"
      },
      "cell_type": "code",
      "source": [
        "train = pd.read_csv(\"data/train.csv\")\n",
        "print(train.shape)"
      ],
      "execution_count": 9,
      "outputs": [
        {
          "output_type": "stream",
          "text": [
            "(42000, 785)\n"
          ],
          "name": "stdout"
        }
      ]
    },
    {
      "metadata": {
        "id": "lvvjQwmPdweX",
        "colab_type": "code",
        "colab": {
          "base_uri": "https://localhost:8080/",
          "height": 35
        },
        "outputId": "dc857e9b-35c8-42d2-dfea-f452392cee3f"
      },
      "cell_type": "code",
      "source": [
        "test = pd.read_csv(\"data/test.csv\")\n",
        "print(test.shape)"
      ],
      "execution_count": 10,
      "outputs": [
        {
          "output_type": "stream",
          "text": [
            "(28000, 784)\n"
          ],
          "name": "stdout"
        }
      ]
    },
    {
      "metadata": {
        "id": "ur4OTZUtd_MF",
        "colab_type": "code",
        "colab": {}
      },
      "cell_type": "code",
      "source": [
        "x_train = train.iloc[:, 1:785].values\n",
        "y_train = train.iloc[:, 0].values\n",
        "x_test = test.iloc[:, 0:784].values"
      ],
      "execution_count": 0,
      "outputs": []
    },
    {
      "metadata": {
        "id": "yHVFyfS5fKYP",
        "colab_type": "code",
        "colab": {
          "base_uri": "https://localhost:8080/",
          "height": 70
        },
        "outputId": "b68a5a0e-4e3d-49d8-f00f-67f36fc82ade"
      },
      "cell_type": "code",
      "source": [
        "print(x_train.shape)\n",
        "print(y_train.shape)\n",
        "print(x_test.shape)"
      ],
      "execution_count": 12,
      "outputs": [
        {
          "output_type": "stream",
          "text": [
            "(42000, 784)\n",
            "(42000,)\n",
            "(28000, 784)\n"
          ],
          "name": "stdout"
        }
      ]
    },
    {
      "metadata": {
        "id": "CUDgnuR0gMhN",
        "colab_type": "code",
        "colab": {}
      },
      "cell_type": "code",
      "source": [
        "x_train = x_train/255.0\n",
        "x_test = x_test/255.0"
      ],
      "execution_count": 0,
      "outputs": []
    },
    {
      "metadata": {
        "id": "TMhuhhYMggLC",
        "colab_type": "code",
        "colab": {}
      },
      "cell_type": "code",
      "source": [
        "x_train = x_train.reshape(x_train.shape[0], 28, 28, 1)\n",
        "x_test = x_test.reshape(x_test.shape[0], 28, 28, 1)"
      ],
      "execution_count": 0,
      "outputs": []
    },
    {
      "metadata": {
        "id": "oBbgBnL2uJ9H",
        "colab_type": "code",
        "colab": {
          "base_uri": "https://localhost:8080/",
          "height": 52
        },
        "outputId": "e27db952-022d-470b-815c-b678c1b56093"
      },
      "cell_type": "code",
      "source": [
        "print(x_train.shape)\n",
        "print(x_test.shape)"
      ],
      "execution_count": 15,
      "outputs": [
        {
          "output_type": "stream",
          "text": [
            "(42000, 28, 28, 1)\n",
            "(28000, 28, 28, 1)\n"
          ],
          "name": "stdout"
        }
      ]
    },
    {
      "metadata": {
        "id": "OtYbrBKYhYnq",
        "colab_type": "code",
        "colab": {
          "base_uri": "https://localhost:8080/",
          "height": 35
        },
        "outputId": "0d3160ed-f02a-4bb6-e5f7-819f3613cf11"
      },
      "cell_type": "code",
      "source": [
        "from keras.models import Sequential\n",
        "from keras.layers import Conv2D\n",
        "from keras.layers import MaxPooling2D\n",
        "from keras.layers import Dropout\n",
        "from keras.layers import Flatten\n",
        "from keras.layers import Dense\n",
        "from keras.utils import to_categorical\n",
        "from keras.utils import np_utils"
      ],
      "execution_count": 16,
      "outputs": [
        {
          "output_type": "stream",
          "text": [
            "Using TensorFlow backend.\n"
          ],
          "name": "stderr"
        }
      ]
    },
    {
      "metadata": {
        "id": "fSfqfZueh3ip",
        "colab_type": "code",
        "colab": {}
      },
      "cell_type": "code",
      "source": [
        "num_classes = 10\n",
        "batch_size = 32\n",
        "epochs = 20\n",
        "input_shape = (28,28,1)"
      ],
      "execution_count": 0,
      "outputs": []
    },
    {
      "metadata": {
        "id": "_GEOti_RilMg",
        "colab_type": "code",
        "colab": {}
      },
      "cell_type": "code",
      "source": [
        "seed = 5\n",
        "np.random.seed(seed)"
      ],
      "execution_count": 0,
      "outputs": []
    },
    {
      "metadata": {
        "id": "W_i7hHjNiPNz",
        "colab_type": "code",
        "colab": {}
      },
      "cell_type": "code",
      "source": [
        "y_train = to_categorical(y_train, num_classes)"
      ],
      "execution_count": 0,
      "outputs": []
    },
    {
      "metadata": {
        "id": "bQcWuwi-raKj",
        "colab_type": "code",
        "colab": {}
      },
      "cell_type": "code",
      "source": [
        "from sklearn.model_selection import train_test_split\n",
        "x_train, x_validation, y_train, y_validation = train_test_split(x_train, y_train, test_size = 0.1, random_state=seed)"
      ],
      "execution_count": 0,
      "outputs": []
    },
    {
      "metadata": {
        "id": "Zj2qyJMsvm0B",
        "colab_type": "code",
        "colab": {
          "base_uri": "https://localhost:8080/",
          "height": 88
        },
        "outputId": "f2a0ab40-59fb-49df-bd21-962028695708"
      },
      "cell_type": "code",
      "source": [
        "print(x_train.shape)\n",
        "print(x_validation.shape)\n",
        "print(y_train.shape)\n",
        "print(y_validation.shape)"
      ],
      "execution_count": 21,
      "outputs": [
        {
          "output_type": "stream",
          "text": [
            "(37800, 28, 28, 1)\n",
            "(4200, 28, 28, 1)\n",
            "(37800, 10)\n",
            "(4200, 10)\n"
          ],
          "name": "stdout"
        }
      ]
    },
    {
      "metadata": {
        "id": "cRyFWgIoit02",
        "colab_type": "code",
        "colab": {}
      },
      "cell_type": "code",
      "source": [
        "model = Sequential()\n",
        "model.add(Conv2D(32, kernel_size = (3,3), input_shape= input_shape, activation = 'relu'))\n",
        "model.add(MaxPooling2D(pool_size = (2,2)))\n",
        "model.add(Dropout(0.2))\n",
        "model.add(Flatten())\n",
        "model.add(Dense(64,activation = 'relu'))\n",
        "model.add(Dense(num_classes, activation = 'sigmoid'))"
      ],
      "execution_count": 0,
      "outputs": []
    },
    {
      "metadata": {
        "id": "4jDWwhd0jcYH",
        "colab_type": "code",
        "colab": {}
      },
      "cell_type": "code",
      "source": [
        "model.compile(loss = 'categorical_crossentropy', optimizer = 'adam', metrics = ['accuracy'])"
      ],
      "execution_count": 0,
      "outputs": []
    },
    {
      "metadata": {
        "id": "6amTlVz4tAil",
        "colab_type": "code",
        "colab": {
          "base_uri": "https://localhost:8080/",
          "height": 353
        },
        "outputId": "f3a162ec-d80b-41ef-bd38-7ff9d34b0ae9"
      },
      "cell_type": "code",
      "source": [
        "model.summary()"
      ],
      "execution_count": 24,
      "outputs": [
        {
          "output_type": "stream",
          "text": [
            "_________________________________________________________________\n",
            "Layer (type)                 Output Shape              Param #   \n",
            "=================================================================\n",
            "conv2d_1 (Conv2D)            (None, 26, 26, 32)        320       \n",
            "_________________________________________________________________\n",
            "max_pooling2d_1 (MaxPooling2 (None, 13, 13, 32)        0         \n",
            "_________________________________________________________________\n",
            "dropout_1 (Dropout)          (None, 13, 13, 32)        0         \n",
            "_________________________________________________________________\n",
            "flatten_1 (Flatten)          (None, 5408)              0         \n",
            "_________________________________________________________________\n",
            "dense_1 (Dense)              (None, 64)                346176    \n",
            "_________________________________________________________________\n",
            "dense_2 (Dense)              (None, 10)                650       \n",
            "=================================================================\n",
            "Total params: 347,146\n",
            "Trainable params: 347,146\n",
            "Non-trainable params: 0\n",
            "_________________________________________________________________\n"
          ],
          "name": "stdout"
        }
      ]
    },
    {
      "metadata": {
        "id": "BkW-4FkQtD2H",
        "colab_type": "code",
        "colab": {
          "base_uri": "https://localhost:8080/",
          "height": 742
        },
        "outputId": "ae7e4ff4-0d56-47ee-b353-9f70b58842b0"
      },
      "cell_type": "code",
      "source": [
        "model.fit(x_train, y_train, epochs = epochs, verbose = 1)"
      ],
      "execution_count": 25,
      "outputs": [
        {
          "output_type": "stream",
          "text": [
            "Epoch 1/20\n",
            "37800/37800 [==============================] - 11s 278us/step - loss: 0.2369 - acc: 0.9306\n",
            "Epoch 2/20\n",
            "37800/37800 [==============================] - 9s 245us/step - loss: 0.0853 - acc: 0.9743\n",
            "Epoch 3/20\n",
            "37800/37800 [==============================] - 9s 242us/step - loss: 0.0616 - acc: 0.9812\n",
            "Epoch 4/20\n",
            "37800/37800 [==============================] - 9s 242us/step - loss: 0.0484 - acc: 0.9844\n",
            "Epoch 5/20\n",
            "37800/37800 [==============================] - 9s 243us/step - loss: 0.0409 - acc: 0.9861\n",
            "Epoch 6/20\n",
            "37800/37800 [==============================] - 9s 243us/step - loss: 0.0322 - acc: 0.9897\n",
            "Epoch 7/20\n",
            "37800/37800 [==============================] - 9s 241us/step - loss: 0.0260 - acc: 0.9914\n",
            "Epoch 8/20\n",
            "37800/37800 [==============================] - 9s 242us/step - loss: 0.0206 - acc: 0.9931\n",
            "Epoch 9/20\n",
            "37800/37800 [==============================] - 9s 243us/step - loss: 0.0173 - acc: 0.9939\n",
            "Epoch 10/20\n",
            "37800/37800 [==============================] - 9s 243us/step - loss: 0.0156 - acc: 0.9948\n",
            "Epoch 11/20\n",
            "37800/37800 [==============================] - 9s 243us/step - loss: 0.0130 - acc: 0.9954\n",
            "Epoch 12/20\n",
            "37800/37800 [==============================] - 9s 243us/step - loss: 0.0138 - acc: 0.9949\n",
            "Epoch 13/20\n",
            "37800/37800 [==============================] - 9s 243us/step - loss: 0.0107 - acc: 0.9965\n",
            "Epoch 14/20\n",
            "37800/37800 [==============================] - 9s 243us/step - loss: 0.0092 - acc: 0.9970\n",
            "Epoch 15/20\n",
            "37800/37800 [==============================] - 9s 242us/step - loss: 0.0091 - acc: 0.9967\n",
            "Epoch 16/20\n",
            "37800/37800 [==============================] - 9s 241us/step - loss: 0.0077 - acc: 0.9975\n",
            "Epoch 17/20\n",
            "37800/37800 [==============================] - 9s 242us/step - loss: 0.0069 - acc: 0.9976\n",
            "Epoch 18/20\n",
            "37800/37800 [==============================] - 9s 242us/step - loss: 0.0064 - acc: 0.9981\n",
            "Epoch 19/20\n",
            "37800/37800 [==============================] - 9s 240us/step - loss: 0.0082 - acc: 0.9972\n",
            "Epoch 20/20\n",
            "37800/37800 [==============================] - 9s 241us/step - loss: 0.0063 - acc: 0.9982\n"
          ],
          "name": "stdout"
        },
        {
          "output_type": "execute_result",
          "data": {
            "text/plain": [
              "<keras.callbacks.History at 0x7f23e5900080>"
            ]
          },
          "metadata": {
            "tags": []
          },
          "execution_count": 25
        }
      ]
    },
    {
      "metadata": {
        "id": "4kX-LolAzaiy",
        "colab_type": "code",
        "colab": {
          "base_uri": "https://localhost:8080/",
          "height": 35
        },
        "outputId": "edca26df-704d-448b-f5da-685f32f1d3bb"
      },
      "cell_type": "code",
      "source": [
        "loss , accuracy = model.evaluate(x_validation, y_validation, verbose = 0)\n",
        "print(\"Loss : \",loss, \"Accuracy : \", accuracy)"
      ],
      "execution_count": 28,
      "outputs": [
        {
          "output_type": "stream",
          "text": [
            "Loss :  0.07603790289496136 Accuracy :  0.9833333333333333\n"
          ],
          "name": "stdout"
        }
      ]
    },
    {
      "metadata": {
        "id": "vKylwH7lz0nf",
        "colab_type": "code",
        "colab": {}
      },
      "cell_type": "code",
      "source": [
        "predicted_classes = model.predict_classes(x_test)"
      ],
      "execution_count": 0,
      "outputs": []
    },
    {
      "metadata": {
        "id": "Q9EHXiBF0Tne",
        "colab_type": "code",
        "colab": {}
      },
      "cell_type": "code",
      "source": [
        "submissions=pd.DataFrame({\"ImageId\": list(range(1,len(predicted_classes)+1)), \"Label\": predicted_classes})"
      ],
      "execution_count": 0,
      "outputs": []
    },
    {
      "metadata": {
        "id": "sXGpvOg60rEG",
        "colab_type": "code",
        "colab": {}
      },
      "cell_type": "code",
      "source": [
        "submissions.to_csv(\"submission.csv\", index = False, header = True)"
      ],
      "execution_count": 0,
      "outputs": []
    },
    {
      "metadata": {
        "id": "SXTVHkix1RoB",
        "colab_type": "code",
        "colab": {}
      },
      "cell_type": "code",
      "source": [
        "from google.colab import files\n",
        "files.download('submission.csv')"
      ],
      "execution_count": 0,
      "outputs": []
    }
  ]
}
