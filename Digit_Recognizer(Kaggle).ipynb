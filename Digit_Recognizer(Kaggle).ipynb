{
  "nbformat": 4,
  "nbformat_minor": 0,
  "metadata": {
    "colab": {
      "name": "Digit-Recognizer( Kaggle).ipynb",
      "version": "0.3.2",
      "provenance": []
    },
    "kernelspec": {
      "name": "python3",
      "display_name": "Python 3"
    },
    "accelerator": "GPU"
  },
  "cells": [
    {
      "metadata": {
        "id": "JjrcBOu6L545",
        "colab_type": "text"
      },
      "cell_type": "markdown",
      "source": [
        "Import necessary libraries"
      ]
    },
    {
      "metadata": {
        "id": "EUug2pyxLOjf",
        "colab_type": "code",
        "colab": {}
      },
      "cell_type": "code",
      "source": [
        "import numpy as np\n",
        "import pandas as pd"
      ],
      "execution_count": 0,
      "outputs": []
    },
    {
      "metadata": {
        "id": "rlgOBz0INzEQ",
        "colab_type": "text"
      },
      "cell_type": "markdown",
      "source": [
        "Clone the git repository to use the dataset"
      ]
    },
    {
      "metadata": {
        "id": "FcYyR75xNzz2",
        "colab_type": "code",
        "colab": {
          "base_uri": "https://localhost:8080/",
          "height": 35
        },
        "outputId": "7242ff90-f35a-4427-b83f-6465e0af4c98"
      },
      "cell_type": "code",
      "source": [
        "!git clone https://github.com/mohitwildbeast/Digit-Recognizer-Kaggle.git"
      ],
      "execution_count": 2,
      "outputs": [
        {
          "output_type": "stream",
          "text": [
            "fatal: destination path 'Digit-Recognizer-Kaggle' already exists and is not an empty directory.\n"
          ],
          "name": "stdout"
        }
      ]
    },
    {
      "metadata": {
        "id": "Q5LAwPnYu8XA",
        "colab_type": "code",
        "colab": {
          "base_uri": "https://localhost:8080/",
          "height": 52
        },
        "outputId": "2a7a9e8e-fa35-4685-e2cd-6d460b262604"
      },
      "cell_type": "code",
      "source": [
        "!ls\n",
        "%cd Digit-Recognizer-Kaggle"
      ],
      "execution_count": 3,
      "outputs": [
        {
          "output_type": "stream",
          "text": [
            "Digit-Recognizer-Kaggle  sample_data\n",
            "/content/Digit-Recognizer-Kaggle\n"
          ],
          "name": "stdout"
        }
      ]
    },
    {
      "metadata": {
        "id": "HOOzTSEMdLK5",
        "colab_type": "code",
        "colab": {
          "base_uri": "https://localhost:8080/",
          "height": 35
        },
        "outputId": "c717f450-133e-414e-cf9a-9f53a67c09e9"
      },
      "cell_type": "code",
      "source": [
        "train = pd.read_csv(\"data/train.csv\")\n",
        "print(train.shape)"
      ],
      "execution_count": 4,
      "outputs": [
        {
          "output_type": "stream",
          "text": [
            "(42000, 785)\n"
          ],
          "name": "stdout"
        }
      ]
    },
    {
      "metadata": {
        "id": "lvvjQwmPdweX",
        "colab_type": "code",
        "colab": {
          "base_uri": "https://localhost:8080/",
          "height": 35
        },
        "outputId": "0714d4c3-d0bf-4863-e758-09b94e22df3f"
      },
      "cell_type": "code",
      "source": [
        "test = pd.read_csv(\"data/test.csv\")\n",
        "print(test.shape)"
      ],
      "execution_count": 5,
      "outputs": [
        {
          "output_type": "stream",
          "text": [
            "(28000, 784)\n"
          ],
          "name": "stdout"
        }
      ]
    },
    {
      "metadata": {
        "id": "ur4OTZUtd_MF",
        "colab_type": "code",
        "colab": {}
      },
      "cell_type": "code",
      "source": [
        "x_train = train.iloc[:, 1:785].values\n",
        "y_train = train.iloc[:, 0].values\n",
        "x_test = test.iloc[:, 0:784].values"
      ],
      "execution_count": 0,
      "outputs": []
    },
    {
      "metadata": {
        "id": "yHVFyfS5fKYP",
        "colab_type": "code",
        "colab": {
          "base_uri": "https://localhost:8080/",
          "height": 70
        },
        "outputId": "a85a9832-fd5a-4f65-ca12-1f1174937eb7"
      },
      "cell_type": "code",
      "source": [
        "print(x_train.shape)\n",
        "print(y_train.shape)\n",
        "print(x_test.shape)"
      ],
      "execution_count": 7,
      "outputs": [
        {
          "output_type": "stream",
          "text": [
            "(42000, 784)\n",
            "(42000,)\n",
            "(28000, 784)\n"
          ],
          "name": "stdout"
        }
      ]
    },
    {
      "metadata": {
        "id": "CUDgnuR0gMhN",
        "colab_type": "code",
        "colab": {}
      },
      "cell_type": "code",
      "source": [
        "x_train = x_train/255.0\n",
        "x_test = x_test/255.0"
      ],
      "execution_count": 0,
      "outputs": []
    },
    {
      "metadata": {
        "id": "TMhuhhYMggLC",
        "colab_type": "code",
        "colab": {}
      },
      "cell_type": "code",
      "source": [
        "x_train = x_train.reshape(x_train.shape[0], 28, 28, 1)\n",
        "x_test = x_test.reshape(x_test.shape[0], 28, 28, 1)"
      ],
      "execution_count": 0,
      "outputs": []
    },
    {
      "metadata": {
        "id": "oBbgBnL2uJ9H",
        "colab_type": "code",
        "colab": {
          "base_uri": "https://localhost:8080/",
          "height": 52
        },
        "outputId": "9607fc7b-7907-4698-9691-a9a27407764a"
      },
      "cell_type": "code",
      "source": [
        "print(x_train.shape)\n",
        "print(x_test.shape)"
      ],
      "execution_count": 10,
      "outputs": [
        {
          "output_type": "stream",
          "text": [
            "(42000, 28, 28, 1)\n",
            "(28000, 28, 28, 1)\n"
          ],
          "name": "stdout"
        }
      ]
    },
    {
      "metadata": {
        "id": "OtYbrBKYhYnq",
        "colab_type": "code",
        "colab": {
          "base_uri": "https://localhost:8080/",
          "height": 35
        },
        "outputId": "db1a870f-36fb-44e1-8fd0-c45e51881d70"
      },
      "cell_type": "code",
      "source": [
        "from keras.models import Sequential\n",
        "from keras.layers import Conv2D\n",
        "from keras.layers import MaxPooling2D\n",
        "from keras.layers import Dropout\n",
        "from keras.layers import Flatten\n",
        "from keras.layers import Dense\n",
        "from keras.utils import to_categorical\n",
        "from keras.utils import np_utils"
      ],
      "execution_count": 11,
      "outputs": [
        {
          "output_type": "stream",
          "text": [
            "Using TensorFlow backend.\n"
          ],
          "name": "stderr"
        }
      ]
    },
    {
      "metadata": {
        "id": "fSfqfZueh3ip",
        "colab_type": "code",
        "colab": {}
      },
      "cell_type": "code",
      "source": [
        "num_classes = 10\n",
        "batch_size = 64\n",
        "epochs = 40\n",
        "input_shape = (28,28,1)"
      ],
      "execution_count": 0,
      "outputs": []
    },
    {
      "metadata": {
        "id": "_GEOti_RilMg",
        "colab_type": "code",
        "colab": {}
      },
      "cell_type": "code",
      "source": [
        "seed = 5\n",
        "np.random.seed(seed)"
      ],
      "execution_count": 0,
      "outputs": []
    },
    {
      "metadata": {
        "id": "W_i7hHjNiPNz",
        "colab_type": "code",
        "colab": {}
      },
      "cell_type": "code",
      "source": [
        "y_train = to_categorical(y_train, num_classes)"
      ],
      "execution_count": 0,
      "outputs": []
    },
    {
      "metadata": {
        "id": "bQcWuwi-raKj",
        "colab_type": "code",
        "colab": {}
      },
      "cell_type": "code",
      "source": [
        "from sklearn.model_selection import train_test_split\n",
        "x_train, x_validation, y_train, y_validation = train_test_split(x_train, y_train, test_size = 0.2, random_state=seed)"
      ],
      "execution_count": 0,
      "outputs": []
    },
    {
      "metadata": {
        "id": "Zj2qyJMsvm0B",
        "colab_type": "code",
        "colab": {
          "base_uri": "https://localhost:8080/",
          "height": 88
        },
        "outputId": "c72a16d1-baf0-49cc-f085-f0f1c25be077"
      },
      "cell_type": "code",
      "source": [
        "print(x_train.shape)\n",
        "print(x_validation.shape)\n",
        "print(y_train.shape)\n",
        "print(y_validation.shape)"
      ],
      "execution_count": 16,
      "outputs": [
        {
          "output_type": "stream",
          "text": [
            "(33600, 28, 28, 1)\n",
            "(8400, 28, 28, 1)\n",
            "(33600, 10)\n",
            "(8400, 10)\n"
          ],
          "name": "stdout"
        }
      ]
    },
    {
      "metadata": {
        "id": "cRyFWgIoit02",
        "colab_type": "code",
        "colab": {}
      },
      "cell_type": "code",
      "source": [
        "model = Sequential()\n",
        "model.add(Conv2D(32, kernel_size = (3,3), input_shape= input_shape, activation = 'relu'))\n",
        "model.add(MaxPooling2D(pool_size = (2,2)))\n",
        "model.add(Dropout(0.2))\n",
        "model.add(Conv2D(32, (3,3), activation = 'relu'))\n",
        "model.add(MaxPooling2D())\n",
        "model.add(Dropout(0.2))\n",
        "model.add(Flatten())\n",
        "model.add(Dense(512,activation = 'relu'))\n",
        "model.add(Dense(512, activation = 'relu'))\n",
        "model.add(Dense(num_classes, activation = 'sigmoid'))"
      ],
      "execution_count": 0,
      "outputs": []
    },
    {
      "metadata": {
        "id": "4jDWwhd0jcYH",
        "colab_type": "code",
        "colab": {}
      },
      "cell_type": "code",
      "source": [
        "model.compile(loss = 'categorical_crossentropy', optimizer = 'adam', metrics = ['accuracy'])"
      ],
      "execution_count": 0,
      "outputs": []
    },
    {
      "metadata": {
        "id": "6amTlVz4tAil",
        "colab_type": "code",
        "colab": {
          "base_uri": "https://localhost:8080/",
          "height": 495
        },
        "outputId": "29c3e166-e3dc-4299-c368-84e631d7a012"
      },
      "cell_type": "code",
      "source": [
        "model.summary()"
      ],
      "execution_count": 19,
      "outputs": [
        {
          "output_type": "stream",
          "text": [
            "_________________________________________________________________\n",
            "Layer (type)                 Output Shape              Param #   \n",
            "=================================================================\n",
            "conv2d_1 (Conv2D)            (None, 26, 26, 32)        320       \n",
            "_________________________________________________________________\n",
            "max_pooling2d_1 (MaxPooling2 (None, 13, 13, 32)        0         \n",
            "_________________________________________________________________\n",
            "dropout_1 (Dropout)          (None, 13, 13, 32)        0         \n",
            "_________________________________________________________________\n",
            "conv2d_2 (Conv2D)            (None, 11, 11, 32)        9248      \n",
            "_________________________________________________________________\n",
            "max_pooling2d_2 (MaxPooling2 (None, 5, 5, 32)          0         \n",
            "_________________________________________________________________\n",
            "dropout_2 (Dropout)          (None, 5, 5, 32)          0         \n",
            "_________________________________________________________________\n",
            "flatten_1 (Flatten)          (None, 800)               0         \n",
            "_________________________________________________________________\n",
            "dense_1 (Dense)              (None, 512)               410112    \n",
            "_________________________________________________________________\n",
            "dense_2 (Dense)              (None, 512)               262656    \n",
            "_________________________________________________________________\n",
            "dense_3 (Dense)              (None, 10)                5130      \n",
            "=================================================================\n",
            "Total params: 687,466\n",
            "Trainable params: 687,466\n",
            "Non-trainable params: 0\n",
            "_________________________________________________________________\n"
          ],
          "name": "stdout"
        }
      ]
    },
    {
      "metadata": {
        "id": "BkW-4FkQtD2H",
        "colab_type": "code",
        "colab": {
          "base_uri": "https://localhost:8080/",
          "height": 1450
        },
        "outputId": "fe6167e3-446a-4bd9-9174-29dda446ebdc"
      },
      "cell_type": "code",
      "source": [
        "model.fit(x_train, y_train, epochs = epochs, verbose = 1)"
      ],
      "execution_count": 20,
      "outputs": [
        {
          "output_type": "stream",
          "text": [
            "Epoch 1/40\n",
            "33600/33600 [==============================] - 12s 358us/step - loss: 0.2194 - acc: 0.9312\n",
            "Epoch 2/40\n",
            "33600/33600 [==============================] - 11s 320us/step - loss: 0.0720 - acc: 0.9772\n",
            "Epoch 3/40\n",
            "33600/33600 [==============================] - 11s 320us/step - loss: 0.0545 - acc: 0.9826\n",
            "Epoch 4/40\n",
            "33600/33600 [==============================] - 11s 318us/step - loss: 0.0448 - acc: 0.9857\n",
            "Epoch 5/40\n",
            "33600/33600 [==============================] - 11s 322us/step - loss: 0.0371 - acc: 0.9879\n",
            "Epoch 6/40\n",
            "33600/33600 [==============================] - 11s 318us/step - loss: 0.0315 - acc: 0.9904\n",
            "Epoch 7/40\n",
            "33600/33600 [==============================] - 11s 318us/step - loss: 0.0276 - acc: 0.9914\n",
            "Epoch 8/40\n",
            "33600/33600 [==============================] - 11s 320us/step - loss: 0.0260 - acc: 0.9924\n",
            "Epoch 9/40\n",
            "33600/33600 [==============================] - 11s 317us/step - loss: 0.0232 - acc: 0.9926\n",
            "Epoch 10/40\n",
            "33600/33600 [==============================] - 11s 317us/step - loss: 0.0203 - acc: 0.9933\n",
            "Epoch 11/40\n",
            "33600/33600 [==============================] - 11s 316us/step - loss: 0.0213 - acc: 0.9933\n",
            "Epoch 12/40\n",
            "33600/33600 [==============================] - 11s 316us/step - loss: 0.0199 - acc: 0.9943\n",
            "Epoch 13/40\n",
            "33600/33600 [==============================] - 11s 322us/step - loss: 0.0202 - acc: 0.9939\n",
            "Epoch 14/40\n",
            "33600/33600 [==============================] - 11s 322us/step - loss: 0.0196 - acc: 0.9941\n",
            "Epoch 15/40\n",
            "33600/33600 [==============================] - 11s 316us/step - loss: 0.0152 - acc: 0.9955\n",
            "Epoch 16/40\n",
            "33600/33600 [==============================] - 11s 315us/step - loss: 0.0142 - acc: 0.9957\n",
            "Epoch 17/40\n",
            "33600/33600 [==============================] - 11s 316us/step - loss: 0.0167 - acc: 0.9954\n",
            "Epoch 18/40\n",
            "33600/33600 [==============================] - 11s 314us/step - loss: 0.0143 - acc: 0.9963\n",
            "Epoch 19/40\n",
            "33600/33600 [==============================] - 11s 316us/step - loss: 0.0162 - acc: 0.9957\n",
            "Epoch 20/40\n",
            "33600/33600 [==============================] - 11s 315us/step - loss: 0.0142 - acc: 0.9970\n",
            "Epoch 21/40\n",
            "33600/33600 [==============================] - 11s 317us/step - loss: 0.0141 - acc: 0.9960\n",
            "Epoch 22/40\n",
            "33600/33600 [==============================] - 11s 316us/step - loss: 0.0151 - acc: 0.9964\n",
            "Epoch 23/40\n",
            "33600/33600 [==============================] - 11s 316us/step - loss: 0.0145 - acc: 0.9958\n",
            "Epoch 24/40\n",
            "33600/33600 [==============================] - 11s 317us/step - loss: 0.0139 - acc: 0.9967\n",
            "Epoch 25/40\n",
            "33600/33600 [==============================] - 11s 317us/step - loss: 0.0138 - acc: 0.9969\n",
            "Epoch 26/40\n",
            "33600/33600 [==============================] - 11s 313us/step - loss: 0.0131 - acc: 0.9965\n",
            "Epoch 27/40\n",
            "33600/33600 [==============================] - 11s 316us/step - loss: 0.0170 - acc: 0.9961\n",
            "Epoch 28/40\n",
            "33600/33600 [==============================] - 11s 315us/step - loss: 0.0145 - acc: 0.9962\n",
            "Epoch 29/40\n",
            "33600/33600 [==============================] - 11s 315us/step - loss: 0.0127 - acc: 0.9968\n",
            "Epoch 30/40\n",
            "33600/33600 [==============================] - 11s 315us/step - loss: 0.0171 - acc: 0.9964\n",
            "Epoch 31/40\n",
            "33600/33600 [==============================] - 11s 316us/step - loss: 0.0134 - acc: 0.9970\n",
            "Epoch 32/40\n",
            "33600/33600 [==============================] - 11s 316us/step - loss: 0.0148 - acc: 0.9969\n",
            "Epoch 33/40\n",
            "33600/33600 [==============================] - 11s 314us/step - loss: 0.0216 - acc: 0.9955\n",
            "Epoch 34/40\n",
            "33600/33600 [==============================] - 11s 313us/step - loss: 0.0182 - acc: 0.9961\n",
            "Epoch 35/40\n",
            "33600/33600 [==============================] - 11s 318us/step - loss: 0.0201 - acc: 0.9969\n",
            "Epoch 36/40\n",
            "33600/33600 [==============================] - 11s 316us/step - loss: 0.0187 - acc: 0.9967\n",
            "Epoch 37/40\n",
            "33600/33600 [==============================] - 11s 314us/step - loss: 0.0221 - acc: 0.9950\n",
            "Epoch 38/40\n",
            "33600/33600 [==============================] - 11s 318us/step - loss: 0.0221 - acc: 0.9953\n",
            "Epoch 39/40\n",
            "33600/33600 [==============================] - 11s 315us/step - loss: 0.0266 - acc: 0.9949\n",
            "Epoch 40/40\n",
            "33600/33600 [==============================] - 11s 316us/step - loss: 0.0182 - acc: 0.9955\n"
          ],
          "name": "stdout"
        },
        {
          "output_type": "execute_result",
          "data": {
            "text/plain": [
              "<keras.callbacks.History at 0x7f6d198240b8>"
            ]
          },
          "metadata": {
            "tags": []
          },
          "execution_count": 20
        }
      ]
    },
    {
      "metadata": {
        "id": "4kX-LolAzaiy",
        "colab_type": "code",
        "colab": {
          "base_uri": "https://localhost:8080/",
          "height": 35
        },
        "outputId": "e31c97fb-d2da-4695-8936-6a2a787d48b9"
      },
      "cell_type": "code",
      "source": [
        "loss , accuracy = model.evaluate(x_validation, y_validation, verbose = 0)\n",
        "print(\"Loss : \",loss, \"Accuracy : \", accuracy)"
      ],
      "execution_count": 21,
      "outputs": [
        {
          "output_type": "stream",
          "text": [
            "Loss :  0.09672501460935139 Accuracy :  0.9903571428571428\n"
          ],
          "name": "stdout"
        }
      ]
    },
    {
      "metadata": {
        "id": "vKylwH7lz0nf",
        "colab_type": "code",
        "colab": {}
      },
      "cell_type": "code",
      "source": [
        "predicted_classes = model.predict_classes(x_test)"
      ],
      "execution_count": 0,
      "outputs": []
    },
    {
      "metadata": {
        "id": "Q9EHXiBF0Tne",
        "colab_type": "code",
        "colab": {}
      },
      "cell_type": "code",
      "source": [
        "submissions=pd.DataFrame({\"ImageId\": list(range(1,len(predicted_classes)+1)), \"Label\": predicted_classes})"
      ],
      "execution_count": 0,
      "outputs": []
    },
    {
      "metadata": {
        "id": "sXGpvOg60rEG",
        "colab_type": "code",
        "colab": {}
      },
      "cell_type": "code",
      "source": [
        "submissions.to_csv(\"submission.csv\", index = False, header = True)"
      ],
      "execution_count": 0,
      "outputs": []
    },
    {
      "metadata": {
        "id": "SXTVHkix1RoB",
        "colab_type": "code",
        "colab": {}
      },
      "cell_type": "code",
      "source": [
        "from google.colab import files\n",
        "files.download('submission.csv')"
      ],
      "execution_count": 0,
      "outputs": []
    }
  ]
}